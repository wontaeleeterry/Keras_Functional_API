{
 "cells": [
  {
   "cell_type": "code",
   "execution_count": 1,
   "metadata": {},
   "outputs": [
    {
     "name": "stdout",
     "output_type": "stream",
     "text": [
      "(60000, 28, 28) (10000, 28, 28)\n"
     ]
    }
   ],
   "source": [
    "import tensorflow as tf\n",
    "import matplotlib.pyplot as plt\n",
    "\n",
    "# Load mnist data\n",
    "mnist = tf.keras.datasets.mnist\n",
    "(x_train, y_train), (x_test, y_test) = mnist.load_data()\n",
    "\n",
    "# Adjusting to 0 ~ 1.0\n",
    "x_train = x_train / 255.0\n",
    "x_test = x_test / 255.0\n",
    "\n",
    "print(x_train.shape, x_test.shape)\n",
    "\n",
    "# (60000, 28, 28) (10000, 28, 28)\n",
    "# 28x28 매트릭스가 60000개 /10000개 저장"
   ]
  },
  {
   "cell_type": "code",
   "execution_count": 2,
   "metadata": {},
   "outputs": [
    {
     "name": "stdout",
     "output_type": "stream",
     "text": [
      "(60000, 28, 28, 1) (10000, 28, 28, 1)\n"
     ]
    }
   ],
   "source": [
    "# CNN Input 형태로 변환\n",
    "# 흑백 1채널 \n",
    "\n",
    "x_train = x_train.reshape(-1, 28, 28, 1)\n",
    "x_test = x_test.reshape(-1, 28, 28, 1)\n",
    "\n",
    "print(x_train.shape, x_test.shape)"
   ]
  },
  {
   "cell_type": "code",
   "execution_count": 3,
   "metadata": {},
   "outputs": [],
   "source": [
    "# Dense Input \n",
    "# Keras functional API 아키텍처 확인을 목적으로 \n",
    "# 임의의(동일한 데이터) 입력 데이터를 준비\n",
    "\n",
    "x_train_dense = x_train.reshape(-1, 28, 28)\n",
    "x_test_dense = x_test.reshape(-1, 28, 28)"
   ]
  },
  {
   "cell_type": "code",
   "execution_count": 5,
   "metadata": {},
   "outputs": [
    {
     "name": "stdout",
     "output_type": "stream",
     "text": [
      "Model: \"model_1\"\n",
      "__________________________________________________________________________________________________\n",
      "Layer (type)                    Output Shape         Param #     Connected to                     \n",
      "==================================================================================================\n",
      "input_3 (InputLayer)            [(None, 28, 28, 1)]  0                                            \n",
      "__________________________________________________________________________________________________\n",
      "conv2d_3 (Conv2D)               (None, 26, 26, 16)   160         input_3[0][0]                    \n",
      "__________________________________________________________________________________________________\n",
      "max_pooling2d_2 (MaxPooling2D)  (None, 13, 13, 16)   0           conv2d_3[0][0]                   \n",
      "__________________________________________________________________________________________________\n",
      "input_4 (InputLayer)            [(None, 28, 28)]     0                                            \n",
      "__________________________________________________________________________________________________\n",
      "conv2d_4 (Conv2D)               (None, 11, 11, 32)   4640        max_pooling2d_2[0][0]            \n",
      "__________________________________________________________________________________________________\n",
      "flatten_3 (Flatten)             (None, 784)          0           input_4[0][0]                    \n",
      "__________________________________________________________________________________________________\n",
      "max_pooling2d_3 (MaxPooling2D)  (None, 5, 5, 32)     0           conv2d_4[0][0]                   \n",
      "__________________________________________________________________________________________________\n",
      "dense_5 (Dense)                 (None, 64)           50240       flatten_3[0][0]                  \n",
      "__________________________________________________________________________________________________\n",
      "conv2d_5 (Conv2D)               (None, 3, 3, 64)     18496       max_pooling2d_3[0][0]            \n",
      "__________________________________________________________________________________________________\n",
      "dropout_2 (Dropout)             (None, 64)           0           dense_5[0][0]                    \n",
      "__________________________________________________________________________________________________\n",
      "flatten_2 (Flatten)             (None, 576)          0           conv2d_5[0][0]                   \n",
      "__________________________________________________________________________________________________\n",
      "dense_6 (Dense)                 (None, 64)           4160        dropout_2[0][0]                  \n",
      "__________________________________________________________________________________________________\n",
      "dense_4 (Dense)                 (None, 32)           18464       flatten_2[0][0]                  \n",
      "__________________________________________________________________________________________________\n",
      "dropout_3 (Dropout)             (None, 64)           0           dense_6[0][0]                    \n",
      "__________________________________________________________________________________________________\n",
      "concatenate_1 (Concatenate)     (None, 96)           0           dense_4[0][0]                    \n",
      "                                                                 dropout_3[0][0]                  \n",
      "__________________________________________________________________________________________________\n",
      "dense_7 (Dense)                 (None, 10)           970         concatenate_1[0][0]              \n",
      "==================================================================================================\n",
      "Total params: 97,130\n",
      "Trainable params: 97,130\n",
      "Non-trainable params: 0\n",
      "__________________________________________________________________________________________________\n",
      "Epoch 1/20\n",
      "1407/1407 - 5s - loss: 0.2206 - accuracy: 0.9327 - val_loss: 0.0816 - val_accuracy: 0.9745\n",
      "Epoch 2/20\n",
      "1407/1407 - 5s - loss: 0.0650 - accuracy: 0.9805 - val_loss: 0.0544 - val_accuracy: 0.9833\n",
      "Epoch 3/20\n",
      "1407/1407 - 5s - loss: 0.0458 - accuracy: 0.9856 - val_loss: 0.0464 - val_accuracy: 0.9861\n",
      "Epoch 4/20\n",
      "1407/1407 - 5s - loss: 0.0368 - accuracy: 0.9883 - val_loss: 0.0533 - val_accuracy: 0.9830\n"
     ]
    },
    {
     "data": {
      "image/png": "[encoded data removed]",
      "text/plain": [
       "<Figure size 720x288 with 2 Axes>"
      ]
     },
     "metadata": {
      "needs_background": "light"
     },
     "output_type": "display_data"
    },
    {
     "name": "stdout",
     "output_type": "stream",
     "text": [
      "0.041560765355825424 0.986299991607666\n"
     ]
    }
   ],
   "source": [
    "# CNN Model \n",
    "Input_shape = (28,28,1)\n",
    "img_input = tf.keras.layers.Input(shape=Input_shape)\n",
    "h = tf.keras.layers.Conv2D(kernel_size=(3,3), filters=16, activation='relu')(img_input)\n",
    "h = tf.keras.layers.MaxPooling2D((2,2))(h)\n",
    "h = tf.keras.layers.Conv2D(kernel_size=(3,3), filters=32, activation='relu')(h)\n",
    "h = tf.keras.layers.MaxPooling2D((2,2))(h)\n",
    "h = tf.keras.layers.Conv2D(kernel_size=(3,3), filters=64, activation='relu')(h)\n",
    "h = tf.keras.layers.Flatten()(h)\n",
    "img_out = tf.keras.layers.Dense(32, activation='relu')(h)\n",
    "\n",
    "# Dense Model\n",
    "Input_shape_dense = (28,28)\n",
    "img_input_dense = tf.keras.layers.Input(shape=Input_shape_dense)\n",
    "hh = tf.keras.layers.Flatten()(img_input_dense)\n",
    "hh = tf.keras.layers.Dense(64, activation='relu')(hh)\n",
    "hh = tf.keras.layers.Dropout(0.2)(hh)\n",
    "hh = tf.keras.layers.Dense(64, activation='relu')(hh)\n",
    "img_out_dense = tf.keras.layers.Dropout(0.2)(hh)\n",
    "\n",
    "# 모델 결합\n",
    "concatenated = tf.keras.layers.concatenate([img_out, img_out_dense])\n",
    "predictions = tf.keras.layers.Dense(10, activation='softmax')(concatenated)\n",
    "\n",
    "# API model 정의\n",
    "model = tf.keras.Model(inputs=[img_input, img_input_dense], outputs=predictions)\n",
    "model.summary()\n",
    "\n",
    "# Compile and Train\n",
    "model.compile(optimizer='adam',\n",
    "              loss='sparse_categorical_crossentropy',\n",
    "              metrics=['accuracy'])\n",
    "\n",
    "\n",
    "# 학습 조기 종료하기\n",
    "# 참고 : # https://tykimos.github.io/2017/07/09/Early_Stopping/\n",
    "\n",
    "\n",
    "# 검증 셋의 정확도가 (monitor, min_delta) '0'이상 증가하지 않을 때,(갑자기 정확도가 떨어지는 경우)\n",
    "# '1' 에포크 만큼만 더 기다린 후(patience) 종료\n",
    "\n",
    "stop_hist = tf.keras.callbacks.EarlyStopping(monitor='val_accuracy', \n",
    "                                          min_delta=0, patience=1, verbose=0, mode='auto')\n",
    "history = model.fit([x_train, x_train_dense], y_train, epochs=20, \n",
    "                    validation_split=0.25, verbose=2, callbacks=[stop_hist])\n",
    "# 에포크를 20으로 설정하고 몇 번 학습을 진행한 후 멈추는지 확인한다. (220519)\n",
    "\n",
    "'''\n",
    "monitor : 관찰하고자 하는 항목, ‘val_loss’나 ‘val_acc’가 주로 사용\n",
    "min_delta : 개선되고 있다고 판단하기 위한 최소 변화량, \n",
    "            만약 변화량이 min_delta보다 적은 경우에는 개선이 없다고 판단\n",
    "patience : 개선이 없다고 바로 종료하지 않고 개선이 없는 에포크를 얼마나 기다려 줄 것인 가를 지정.\n",
    "            만약 10이라고 지정하면 개선이 없는 에포크가 10번째 지속될 경우 학습일 종료\n",
    "verbose : 얼마나 자세하게 정보를 표시할 것인가를 지정 - (0, 1, 2)\n",
    "mode : 관찰 항목에 대해 개선이 없다고 판단하기 위한 기준을 지정.\n",
    "       예를 들어 관찰 항목이 ‘val_loss’인 경우에는 감소되는 것이 멈출 때 종료되어야 하므로, \n",
    "       ‘min’으로 설정\n",
    "auto : 관찰하는 이름에 따라 자동으로 지정\n",
    "min : 관찰하고 있는 항목이 감소되는 것을 멈출 때 종료\n",
    "max : 관찰하고 있는 항목이 증가되는 것을 멈출 때 종료\n",
    "'''\n",
    "\n",
    "plt.figure(figsize=(10,4))\n",
    "plt.subplot(1,2,1)\n",
    "plt.plot(history.history['loss'], 'b-', label='loss')\n",
    "plt.plot(history.history['val_loss'], 'r-', label='val_loss')\n",
    "plt.xlabel('epoch')\n",
    "plt.legend()\n",
    "\n",
    "plt.subplot(1,2,2)\n",
    "plt.plot(history.history['accuracy'], 'g-', label='accuracy')\n",
    "plt.plot(history.history['val_accuracy'], 'k-', label='val_accuracy')\n",
    "plt.xlabel('epoch')\n",
    "plt.legend()\n",
    "\n",
    "plt.show()\n",
    "\n",
    "# Model evaluate\n",
    "test_loss, test_acc = model.evaluate([x_test, x_test_dense], y_test, verbose=0)\n",
    "\n",
    "print(test_loss, test_acc)\n"
   ]
  },
  {
   "cell_type": "code",
   "execution_count": 10,
   "metadata": {},
   "outputs": [],
   "source": [
    "model.save('model.h5')"
   ]
  }
 ],
 "metadata": {
  "kernelspec": {
   "display_name": "tfmac24_mini38",
   "language": "python",
   "name": "tfmac24_mini38"
  },
  "language_info": {
   "codemirror_mode": {
    "name": "ipython",
    "version": 3
   },
   "file_extension": ".py",
   "mimetype": "text/x-python",
   "name": "python",
   "nbconvert_exporter": "python",
   "pygments_lexer": "ipython3",
   "version": "3.8.6"
  }
 },
 "nbformat": 4,
 "nbformat_minor": 4
}
